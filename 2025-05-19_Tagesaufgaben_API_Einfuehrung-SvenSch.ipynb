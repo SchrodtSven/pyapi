{
 "cells": [
  {
   "attachments": {},
   "cell_type": "markdown",
   "metadata": {
    "collapsed": false
   },
   "source": [
    "# Tagesaufgaben: Einführung RESTful APIs\n",
    "\n",
    "<hr>\n"
   ]
  },
  {
   "attachments": {},
   "cell_type": "markdown",
   "metadata": {
    "collapsed": false
   },
   "source": [
    "## Aufgabe 1 - Videos"
   ]
  },
  {
   "attachments": {},
   "cell_type": "markdown",
   "metadata": {
    "collapsed": false
   },
   "source": [
    "Suche Dir zwei Youtube-Videos zu RESTful-APIs heraus, schaue sie an und fasse die wesentlichen Punkte zusammen. Dazu kannst du das Kommentarfeld benutzen.\n",
    "\n",
    "Beispiele:\n",
    "\n",
    "* https://www.youtube.com/watch?v=xpeQz7Hsfz0\n",
    "* https://www.youtube.com/watch?v=uhXCuSnIwjg"
   ]
  },
  {
   "cell_type": "markdown",
   "metadata": {
    "collapsed": false
   },
   "source": [
    "REST (Representational State Transfer) geht zurück auf die Dissertation des Informatikers Roy Thomas Fielding aus dem Jahre 2000. Fielding hat auf Basis von HTTP(S) dieses Architekturprinzip \n",
    "verdeutlicht: \n",
    "    - basierend auf Endpoints (URIs)\n",
    "    - Zustandslosigkeit\n",
    "    - Nutzung der HTTP Methoden (GET;POST;PUT;DELETE)\n",
    "    - Steuerung parametrischer Informationen (nur) über URIs\n",
    "    - Nur Authentifizierung und Übertragung von Metainformation als Bestandteil der (Request-) Paylod "
   ]
  },
  {
   "cell_type": "code",
   "execution_count": 7,
   "metadata": {},
   "outputs": [],
   "source": [
    "# Verwendeter Python Code\n",
    "import requests\n",
    "import pandas as pd\n",
    "import html\n",
    "import json\n",
    "\n",
    "\n",
    "\n",
    "class Cocktail:\n",
    "    uri_s = \"https://www.thecocktaildb.com/api/json/v1/1/search.php?s={}\"\n",
    "    root = 'drinks'\n",
    "    raw:str\n",
    "    \n",
    "    def __init__(self):\n",
    "        pass\n",
    "    \n",
    "    def search(self, q:str):\n",
    "        response = requests.get(self.uri_s.format(q))\n",
    "        self.response_code=  response.status_code\n",
    "        self.dta = response.json()[self.root]\n",
    "        self.raw = response.raw\n",
    "        "
   ]
  },
  {
   "attachments": {},
   "cell_type": "markdown",
   "metadata": {
    "collapsed": false
   },
   "source": [
    "## Aufgabe 2 - Cocktails"
   ]
  },
  {
   "attachments": {},
   "cell_type": "markdown",
   "metadata": {
    "collapsed": false
   },
   "source": [
    "**a)** Nutze den gegebenen Link, um dir alle Rezepte für Cocktails mit \"Paloma\" im Namen ausgeben zu lassen. Lasse dir die Rezepte im json-Format ausgeben."
   ]
  },
  {
   "cell_type": "code",
   "execution_count": 8,
   "metadata": {
    "collapsed": false
   },
   "outputs": [
    {
     "name": "stdout",
     "output_type": "stream",
     "text": [
      "<urllib3.response.HTTPResponse object at 0x1267724a0>\n"
     ]
    }
   ],
   "source": [
    "c = Cocktail()\n",
    "c.search('Paloma')\n",
    "print(c.raw)"
   ]
  },
  {
   "cell_type": "code",
   "execution_count": null,
   "metadata": {},
   "outputs": [],
   "source": []
  },
  {
   "attachments": {},
   "cell_type": "markdown",
   "metadata": {
    "collapsed": false
   },
   "source": [
    "**b)** Wie viele Paloma-Rezepte sind es?"
   ]
  },
  {
   "cell_type": "code",
   "execution_count": null,
   "metadata": {
    "collapsed": false
   },
   "outputs": [],
   "source": [
    "Vier ('Paloma', 'Winter Paloma', 'Pineapple Paloma', 'Lazy Coconut Paloma')"
   ]
  },
  {
   "attachments": {},
   "cell_type": "markdown",
   "metadata": {
    "collapsed": false
   },
   "source": [
    "**c)** Lass dir die Zutaten für den Cocktail ausgeben, der nur \"Paloma\" heißt (im Gegensatz zu erweiterten Palomas wie \"Winter Paloma\"). Du kannst hierfür davon ausgehen, dass das Rezept das Erste in der Liste ist. Vermeide hierbei die Ausgabe von \"None\"-Zutaten!"
   ]
  },
  {
   "cell_type": "code",
   "execution_count": null,
   "metadata": {
    "collapsed": false
   },
   "outputs": [],
   "source": [
    "c = Cocktail()\n",
    "c.search('Paloma')\n",
    "first = c.dta[0]\n",
    "for k in first.keys():\n",
    "    if first[k] not in (None, ''):\n",
    "        print(k, first[k])"
   ]
  },
  {
   "attachments": {},
   "cell_type": "markdown",
   "metadata": {
    "collapsed": false
   },
   "source": [
    "**d)** Optional: Löse Aufgabe 3 ohne zu wissen, an welcher Stelle in der Liste der \"Paloma\" steht."
   ]
  },
  {
   "cell_type": "code",
   "execution_count": 9,
   "metadata": {
    "collapsed": false
   },
   "outputs": [
    {
     "name": "stdout",
     "output_type": "stream",
     "text": [
      "idDrink 17253\n",
      "strDrink Paloma\n",
      "strCategory Cocktail\n",
      "strAlcoholic Alcoholic\n",
      "strGlass Collins glass\n",
      "strInstructions Stir together and serve over ice.\n",
      "strInstructionsES Remover y servir con hielo.\n",
      "strInstructionsDE Zusammenrühren und über Eis servieren.\n",
      "strInstructionsFR Mélanger et servir sur des glaçons.\n",
      "strInstructionsIT Mescolate e servite con ghiaccio.\n",
      "strDrinkThumb https://www.thecocktaildb.com/images/media/drink/samm5j1513706393.jpg\n",
      "strIngredient1 Grape Soda\n",
      "strIngredient2 Tequila\n",
      "strMeasure1 3 oz\n",
      "strMeasure2 1 1/2 oz\n",
      "strCreativeCommonsConfirmed No\n",
      "dateModified 2017-12-19 17:59:53\n"
     ]
    }
   ],
   "source": [
    "c = Cocktail()\n",
    "c.search('Paloma')\n",
    "for item in  c.dta:\n",
    "    if item['strDrink'] == 'Paloma':\n",
    "        chosen = item\n",
    "        \n",
    "for k in chosen.keys():\n",
    "    if chosen[k] not in (None, ''):\n",
    "        print(k, chosen[k])"
   ]
  },
  {
   "cell_type": "markdown",
   "metadata": {},
   "source": [
    "**e)** Optional: Frage die Daten zu einem beliebigen anderen Cocktail von der API ab. Eine Übersicht über die Cocktails findest du auf der Hauptseite https://www.thecocktaildb.com/ "
   ]
  },
  {
   "cell_type": "code",
   "execution_count": null,
   "metadata": {
    "collapsed": false
   },
   "outputs": [],
   "source": [
    "c.search('Mojito')"
   ]
  },
  {
   "attachments": {},
   "cell_type": "markdown",
   "metadata": {
    "collapsed": false
   },
   "source": [
    "# Aufgabe 3 - Trivia Fakten\n",
    "\n",
    "**a)** Lass dir mithilfe des bereitgestellten Links den Trivia-Fakt der Nummer 42 ausgeben. Die Ausgabe soll ein reiner Satz sein (also ohne HTML-Elemente, nicht als JSON usw.)."
   ]
  },
  {
   "cell_type": "code",
   "execution_count": null,
   "metadata": {
    "collapsed": false
   },
   "outputs": [],
   "source": []
  },
  {
   "cell_type": "markdown",
   "metadata": {},
   "source": [
    "**b)** Erstelle eine Schleife, welche 10 solcher Trivia-Fakten durch Link-Abruf holt und diese in eine Python-Liste einbindet. Gib die Liste anschließend aus."
   ]
  },
  {
   "cell_type": "code",
   "execution_count": null,
   "metadata": {
    "collapsed": false
   },
   "outputs": [],
   "source": []
  },
  {
   "cell_type": "markdown",
   "metadata": {},
   "source": [
    "**c)** Generiere nun mittels API-Aufruf einen Trivia-Fakt über eine beliebige andere Zahl.  "
   ]
  },
  {
   "cell_type": "code",
   "execution_count": null,
   "metadata": {
    "collapsed": false
   },
   "outputs": [],
   "source": []
  },
  {
   "cell_type": "markdown",
   "metadata": {},
   "source": [
    "**d)** Optional: Generiere eine Liste mit einem Fakt über jede Zahl von 1-10 und gib diese Liste aus. "
   ]
  },
  {
   "cell_type": "code",
   "execution_count": null,
   "metadata": {
    "collapsed": false
   },
   "outputs": [],
   "source": []
  }
 ],
 "metadata": {
  "kernelspec": {
   "display_name": ".venv",
   "language": "python",
   "name": "python3"
  },
  "language_info": {
   "codemirror_mode": {
    "name": "ipython",
    "version": 3
   },
   "file_extension": ".py",
   "mimetype": "text/x-python",
   "name": "python",
   "nbconvert_exporter": "python",
   "pygments_lexer": "ipython3",
   "version": "3.13.2"
  }
 },
 "nbformat": 4,
 "nbformat_minor": 0
}
